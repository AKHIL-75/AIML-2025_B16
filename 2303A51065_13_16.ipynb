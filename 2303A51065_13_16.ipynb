{
  "nbformat": 4,
  "nbformat_minor": 0,
  "metadata": {
    "colab": {
      "provenance": [],
      "authorship_tag": "ABX9TyNg7KFMDC8ZArpJz0Y7avWp",
      "include_colab_link": true
    },
    "kernelspec": {
      "name": "python3",
      "display_name": "Python 3"
    },
    "language_info": {
      "name": "python"
    }
  },
  "cells": [
    {
      "cell_type": "markdown",
      "metadata": {
        "id": "view-in-github",
        "colab_type": "text"
      },
      "source": [
        "<a href=\"https://colab.research.google.com/github/AKHIL-75/AIML-2025_B16/blob/main/2303A51065_13_16.ipynb\" target=\"_parent\"><img src=\"https://colab.research.google.com/assets/colab-badge.svg\" alt=\"Open In Colab\"/></a>"
      ]
    },
    {
      "cell_type": "code",
      "execution_count": 12,
      "metadata": {
        "colab": {
          "base_uri": "https://localhost:8080/"
        },
        "id": "sBauK_gn_m8L",
        "outputId": "d3bc89d2-10a3-46a9-9324-882b2eba5ef8"
      },
      "outputs": [
        {
          "output_type": "stream",
          "name": "stdout",
          "text": [
            "Top 5 days with the highest rentals:\n",
            "         dteday   cnt\n",
            "623  2012-09-15  8714\n",
            "637  2012-09-29  8555\n",
            "630  2012-09-22  8395\n",
            "447  2012-03-23  8362\n",
            "504  2012-05-19  8294\n"
          ]
        }
      ],
      "source": [
        "import pandas as pd\n",
        "day_data_path = '/content/day.csv'\n",
        "hour_data_path = '/content/hour.csv'\n",
        "day_data = pd.read_csv(day_data_path)\n",
        "top_days = day_data.nlargest(5, 'cnt')[['dteday', 'cnt']]\n",
        "print(\"Top 5 days with the highest rentals:\")\n",
        "print(top_days)"
      ]
    },
    {
      "cell_type": "code",
      "source": [
        "import pandas as pd\n",
        "day_data_path = '/content/day.csv'\n",
        "day_data = pd.read_csv(day_data_path)\n",
        "holiday_data = day_data[day_data['holiday'] == 1]\n",
        "top_holidays = holiday_data.nlargest(5, 'cnt')[['dteday', 'cnt']]\n",
        "print(\"Holidays with the highest bike rentals:\")\n",
        "print(top_holidays)"
      ],
      "metadata": {
        "colab": {
          "base_uri": "https://localhost:8080/"
        },
        "id": "f40JKI4iCsCe",
        "outputId": "94970231-de9a-4127-be56-fe23e0dad6b2"
      },
      "execution_count": 10,
      "outputs": [
        {
          "output_type": "stream",
          "name": "stdout",
          "text": [
            "Holidays with the highest bike rentals:\n",
            "         dteday   cnt\n",
            "550  2012-07-04  7403\n",
            "471  2012-04-16  6370\n",
            "681  2012-11-12  6269\n",
            "184  2011-07-04  6043\n",
            "513  2012-05-28  6043\n"
          ]
        }
      ]
    },
    {
      "cell_type": "code",
      "source": [
        "import pandas as pd\n",
        "day_data_path = '/content/day.csv'\n",
        "hour_data_path = '/content/hour.csv'\n",
        "day_data = pd.read_csv(day_data_path)\n",
        "hour_data = pd.read_csv(hour_data_path)\n",
        "top_reasons = {}\n",
        "weather_rentals = day_data.groupby('weathersit')['cnt'].sum()\n",
        "top_reasons['Top Weather Condition'] = weather_rentals.idxmax()\n",
        "season_rentals = day_data.groupby('season')['cnt'].sum()\n",
        "top_reasons['Top Season'] = season_rentals.idxmax()\n",
        "workingday_rentals = day_data.groupby('workingday')['cnt'].sum()\n",
        "top_reasons['More Rentals: Working Day (1) or Non-Working Day (0)'] = workingday_rentals.idxmax()\n",
        "holiday_rentals = day_data.groupby('holiday')['cnt'].sum()\n",
        "top_reasons['More Rentals: Holiday (1) or Non-Holiday (0)'] = holiday_rentals.idxmax()\n",
        "temperature_bins = pd.cut(day_data['temp'], bins=4)\n",
        "temp_rentals = day_data.groupby(temperature_bins)['cnt'].sum()\n",
        "top_reasons['Temperature Range with Most Rentals'] = temp_rentals.idxmax()\n",
        "print(\"Top 5 Reasons for Bike Rentals:\")\n",
        "for reason, result in top_reasons.items():\n",
        "    print(f\"{reason}: {result}\")"
      ],
      "metadata": {
        "colab": {
          "base_uri": "https://localhost:8080/"
        },
        "id": "0arAvAbGDPE4",
        "outputId": "4464e576-d5d7-495a-8d71-464515f27b33"
      },
      "execution_count": 21,
      "outputs": [
        {
          "output_type": "stream",
          "name": "stdout",
          "text": [
            "Top 5 Reasons for Bike Rentals:\n",
            "Top Weather Condition: 1\n",
            "Top Season: 3\n",
            "More Rentals: Working Day (1) or Non-Working Day (0): 1\n",
            "More Rentals: Holiday (1) or Non-Holiday (0): 0\n",
            "Temperature Range with Most Rentals: (0.46, 0.661]\n"
          ]
        }
      ]
    },
    {
      "cell_type": "code",
      "source": [
        "import pandas as pd\n",
        "day_data_path = '/content/day.csv'\n",
        "day_data = pd.read_csv(day_data_path)\n",
        "weather_rentals = day_data.groupby('weathersit')['cnt'].sum()\n",
        "most_suitable_weather = weather_rentals.idxmax()\n",
        "weather_map = {\n",
        "    1: \"Clear, Few Clouds, Partly Cloudy\",\n",
        "    2: \"Mist + Cloudy, Mist + Broken Clouds, Mist + Few Clouds, Mist\",\n",
        "    3: \"Light Snow, Light Rain + Thunderstorm + Scattered Clouds, Light Rain + Scattered Clouds\",\n",
        "    4: \"Heavy Rain + Ice Pellets + Thunderstorm + Mist, Snow + Fog\"\n",
        "}\n",
        "print(f\"The most suitable weather condition for bike rentals is: {weather_map[most_suitable_weather]}\")"
      ],
      "metadata": {
        "colab": {
          "base_uri": "https://localhost:8080/"
        },
        "id": "itPpDlznFLnv",
        "outputId": "b65e0c76-22a6-4b4d-8a35-7bcb28891a1d"
      },
      "execution_count": 16,
      "outputs": [
        {
          "output_type": "stream",
          "name": "stdout",
          "text": [
            "The most suitable weather condition for bike rentals is: Clear, Few Clouds, Partly Cloudy\n"
          ]
        }
      ]
    },
    {
      "cell_type": "code",
      "source": [
        "import pandas as pd\n",
        "hour_data_path = '/content/hour.csv'\n",
        "hour_data = pd.read_csv(hour_data_path)\n",
        "hourly_rentals = hour_data.groupby('hr')['cnt'].sum()\n",
        "most_utilized_hour = hourly_rentals.idxmax()\n",
        "highest_rental_count = hourly_rentals.max()\n",
        "print(\"Hourly Utilization of Bike Rentals:\")\n",
        "print(hourly_rentals)\n",
        "print(f\"\\nThe hour with the most bike rentals is: {most_utilized_hour}:00\")\n",
        "print(f\"Number of rentals during this hour: {highest_rental_count}\")"
      ],
      "metadata": {
        "colab": {
          "base_uri": "https://localhost:8080/"
        },
        "id": "aPTQ8cK1F12K",
        "outputId": "72bee1fb-915a-459d-8d82-a4b4a9235cbb"
      },
      "execution_count": 17,
      "outputs": [
        {
          "output_type": "stream",
          "name": "stdout",
          "text": [
            "Hourly Utilization of Bike Rentals:\n",
            "hr\n",
            "0      39130\n",
            "1      24164\n",
            "2      16352\n",
            "3       8174\n",
            "4       4428\n",
            "5      14261\n",
            "6      55132\n",
            "7     154171\n",
            "8     261001\n",
            "9     159438\n",
            "10    126257\n",
            "11    151320\n",
            "12    184414\n",
            "13    184919\n",
            "14    175652\n",
            "15    183149\n",
            "16    227748\n",
            "17    336860\n",
            "18    309772\n",
            "19    226789\n",
            "20    164550\n",
            "21    125445\n",
            "22     95612\n",
            "23     63941\n",
            "Name: cnt, dtype: int64\n",
            "\n",
            "The hour with the most bike rentals is: 17:00\n",
            "Number of rentals during this hour: 336860\n"
          ]
        }
      ]
    }
  ]
}